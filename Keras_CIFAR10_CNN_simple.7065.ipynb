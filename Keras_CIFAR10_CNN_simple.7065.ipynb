{
 "cells": [
  {
   "cell_type": "markdown",
   "metadata": {},
   "source": [
    "# Keras_CIFAR10_CNN_简单模型\n",
    "**正确率为0.7065**"
   ]
  },
  {
   "cell_type": "markdown",
   "metadata": {},
   "source": [
    "## 导入模块"
   ]
  },
  {
   "cell_type": "code",
   "execution_count": 1,
   "metadata": {},
   "outputs": [
    {
     "name": "stderr",
     "output_type": "stream",
     "text": [
      "Using TensorFlow backend.\n"
     ]
    }
   ],
   "source": [
    "import os\n",
    "import pickle\n",
    "import numpy as np\n",
    "import pandas as pd\n",
    "import matplotlib.pyplot as plt\n",
    "import tensorflow as tf\n",
    "import keras\n",
    "\n",
    "from functools import partial\n",
    "from sklearn.preprocessing import normalize\n",
    "\n",
    "from keras import backend\n",
    "from keras.utils import np_utils\n",
    "from keras.callbacks import TensorBoard, ModelCheckpoint\n",
    "from keras.preprocessing.image import ImageDataGenerator\n",
    "\n",
    "from keras.models import load_model\n",
    "from keras.models import Sequential, Model\n",
    "from keras.layers import Dense, Conv2D, MaxPool2D, Input\n",
    "from keras.layers import Activation, Dropout, Flatten, BatchNormalization\n",
    "\n",
    "np.random.seed(42)"
   ]
  },
  {
   "cell_type": "markdown",
   "metadata": {},
   "source": [
    "## 准备数据"
   ]
  },
  {
   "cell_type": "code",
   "execution_count": 2,
   "metadata": {},
   "outputs": [
    {
     "name": "stdout",
     "output_type": "stream",
     "text": [
      "all files : \n",
      " ['batches.meta', 'data_batch_1', 'data_batch_2', 'data_batch_3', 'data_batch_4', 'data_batch_5', 'readme.html', 'test_batch']\n",
      "\n",
      "all labels : \n",
      " ['airplane', 'automobile', 'bird', 'cat', 'deer', 'dog', 'frog', 'horse', 'ship', 'truck']\n",
      "\n",
      "imgs   of trainset :  (40000, 32, 32, 3)\n",
      "labels of trainset :  (40000, 10)\n",
      "imgs   of   valset :  (10000, 32, 32, 3)\n",
      "labels of   valset :  (10000, 10)\n",
      "imgs   of  testset :  (10000, 32, 32, 3)\n",
      "labels of  testset :  (10000, 10)\n"
     ]
    }
   ],
   "source": [
    "filepath = r\"I:\\Dataset\\CIFAR\\cifar-10-batches-py\"\n",
    "files = os.listdir(filepath)\n",
    "\n",
    "for fn in files:\n",
    "    fp = os.path.join(filepath, fn)\n",
    "    f = open(fp, 'rb')\n",
    "    if \"1\" in fn:\n",
    "        data_b = pickle.load(f, encoding=\"bytes\")\n",
    "        y_train = np_utils.to_categorical(data_b[b\"labels\"])\n",
    "        X_train = np.array(data_b[b\"data\"])\n",
    "    if \"data\" in fn and \"1\" not in fn:\n",
    "        data_b = pickle.load(f, encoding=\"bytes\")\n",
    "        imgs = np.array(data_b[b\"data\"])\n",
    "        t_1hot = np_utils.to_categorical(data_b[b\"labels\"])\n",
    "        y_train = np.vstack((y_train, t_1hot))\n",
    "        X_train = np.vstack((X_train, imgs))\n",
    "    elif \"meta\" in fn:\n",
    "        meta = pickle.load(f, encoding=\"bytes\")\n",
    "        label_dict = [label.decode() for label in meta[b\"label_names\"]]\n",
    "    elif \"test\" in fn:\n",
    "        test_b = pickle.load(f, encoding=\"bytes\")\n",
    "        X_test = test_b[b\"data\"]\n",
    "        labels = test_b[b\"labels\"]\n",
    "        y_test = np_utils.to_categorical(labels)\n",
    "    f.close()\n",
    "\n",
    "\"\"\"规范化数据以及切分训练集、验证集和测试集\"\"\"\n",
    "X_train = normalize(X_train, axis=0, norm=\"max\")\n",
    "X_train = X_train.reshape(-1, 3, 32, 32).transpose(0, 2, 3, 1).astype(\"float32\")\n",
    "X_test = normalize(X_test, axis=0, norm=\"max\")\n",
    "X_test = X_test.reshape(-1, 3, 32, 32).transpose(0, 2, 3, 1).astype(\"float32\")\n",
    "x_train = X_train[10000:]\n",
    "t_train = y_train[10000:]\n",
    "x_val   = X_train[:10000]\n",
    "t_val   = y_train[:10000]\n",
    "\n",
    "print(\"all files : \\n\", files)\n",
    "print(\"\\nall labels : \\n\", label_dict)\n",
    "print(\"\\nimgs   of trainset : \", x_train.shape)\n",
    "print(\"labels of trainset : \", t_train.shape)\n",
    "print(\"imgs   of   valset : \", x_val.shape)\n",
    "print(\"labels of   valset : \", t_val.shape)\n",
    "print(\"imgs   of  testset : \", X_test.shape)\n",
    "print(\"labels of  testset : \", y_test.shape)"
   ]
  },
  {
   "cell_type": "markdown",
   "metadata": {},
   "source": [
    "## 分配计算资源"
   ]
  },
  {
   "cell_type": "code",
   "execution_count": 3,
   "metadata": {},
   "outputs": [],
   "source": [
    "\"\"\"分配对应的计算资源\"\"\"\n",
    "config = tf.ConfigProto()\n",
    "config.gpu_options.per_process_gpu_memory_fraction = 0.2\n",
    "sess = tf.Session(config=config)\n",
    "backend.set_session(sess)"
   ]
  },
  {
   "cell_type": "markdown",
   "metadata": {},
   "source": [
    "## 定义模型"
   ]
  },
  {
   "cell_type": "code",
   "execution_count": 4,
   "metadata": {
    "scrolled": true
   },
   "outputs": [
    {
     "name": "stdout",
     "output_type": "stream",
     "text": [
      "_________________________________________________________________\n",
      "Layer (type)                 Output Shape              Param #   \n",
      "=================================================================\n",
      "input (InputLayer)           (None, 32, 32, 3)         0         \n",
      "_________________________________________________________________\n",
      "conv1 (Conv2D)               (None, 32, 32, 32)        896       \n",
      "_________________________________________________________________\n",
      "conv2 (Conv2D)               (None, 32, 32, 32)        9248      \n",
      "_________________________________________________________________\n",
      "pool1 (MaxPooling2D)         (None, 16, 16, 32)        0         \n",
      "_________________________________________________________________\n",
      "conv3 (Conv2D)               (None, 16, 16, 64)        18496     \n",
      "_________________________________________________________________\n",
      "conv4 (Conv2D)               (None, 16, 16, 64)        36928     \n",
      "_________________________________________________________________\n",
      "pool2 (MaxPooling2D)         (None, 8, 8, 64)          0         \n",
      "_________________________________________________________________\n",
      "flatten_1 (Flatten)          (None, 4096)              0         \n",
      "_________________________________________________________________\n",
      "dense1 (Dense)               (None, 512)               2097664   \n",
      "_________________________________________________________________\n",
      "output (Dense)               (None, 10)                5130      \n",
      "=================================================================\n",
      "Total params: 2,168,362\n",
      "Trainable params: 2,168,362\n",
      "Non-trainable params: 0\n",
      "_________________________________________________________________\n",
      "None\n"
     ]
    }
   ],
   "source": [
    "def myCNN():\n",
    "    \"\"\"定义CNN模型\"\"\"\n",
    "    MyConv = partial(Conv2D, kernel_size=(3, 3), padding=\"same\", activation=\"relu\")\n",
    "    MyMaxPool = partial(MaxPool2D, pool_size=(2, 2))\n",
    "    \n",
    "    cifar_input = Input(shape=(32, 32, 3), name=\"input\")\n",
    "    \n",
    "    conv1 = MyConv(32, name=\"conv1\")(cifar_input)\n",
    "    conv2 = MyConv(32, name=\"conv2\")(conv1)\n",
    "    pool1 = MyMaxPool(name=\"pool1\")(conv2)\n",
    "    \n",
    "    conv3 = MyConv(64, name=\"conv3\")(pool1)\n",
    "    conv4 = MyConv(64, name=\"conv4\")(conv3)\n",
    "    pool2 = MyMaxPool(name=\"pool2\")(conv4)\n",
    "    \n",
    "    flat1 = Flatten()(pool2)    \n",
    "    dense1 = Dense(512, activation=\"relu\", name=\"dense1\")(flat1)\n",
    "    y_output = Dense(10, activation=\"softmax\", name=\"output\")(dense1)\n",
    "    \n",
    "    model = Model(inputs=cifar_input, outputs=y_output)\n",
    "    return model\n",
    "model = myCNN()\n",
    "print(model.summary())"
   ]
  },
  {
   "cell_type": "markdown",
   "metadata": {},
   "source": [
    "## 训练模型"
   ]
  },
  {
   "cell_type": "code",
   "execution_count": 5,
   "metadata": {
    "scrolled": true
   },
   "outputs": [
    {
     "name": "stdout",
     "output_type": "stream",
     "text": [
      "\n",
      "training model :  Keras_CIFAR10_CNN_first_model.h5\n",
      "   0 epoch: train acc: 0.325729 loss: 1.805888      val acc: 0.438400 loss: 1.531783\n",
      "   5 epoch: train acc: 0.694375 loss: 0.870360      val acc: 0.671800 loss: 0.915440\n",
      "  10 epoch: train acc: 0.797396 loss: 0.588052      val acc: 0.718800 loss: 0.822811\n",
      "  15 epoch: train acc: 0.876979 loss: 0.378251      val acc: 0.729100 loss: 0.897379\n",
      "  20 epoch: train acc: 0.924375 loss: 0.229561      val acc: 0.731200 loss: 1.041291\n",
      "  25 epoch: train acc: 0.949375 loss: 0.159498      val acc: 0.713600 loss: 1.256576\n",
      "  30 epoch: train acc: 0.961771 loss: 0.117761      val acc: 0.726700 loss: 1.319209\n",
      "  35 epoch: train acc: 0.969063 loss: 0.092380      val acc: 0.730700 loss: 1.408157\n",
      "  40 epoch: train acc: 0.972188 loss: 0.087017      val acc: 0.719700 loss: 1.483959\n",
      "  45 epoch: train acc: 0.974688 loss: 0.080768      val acc: 0.724800 loss: 1.548809\n",
      "  50 epoch: train acc: 0.982500 loss: 0.054352      val acc: 0.729300 loss: 1.724206\n",
      "  55 epoch: train acc: 0.979062 loss: 0.061536      val acc: 0.721800 loss: 1.810259\n",
      "  60 epoch: train acc: 0.980521 loss: 0.061199      val acc: 0.718800 loss: 1.790416\n",
      "  65 epoch: train acc: 0.976979 loss: 0.070202      val acc: 0.720800 loss: 1.808561\n",
      "  70 epoch: train acc: 0.981458 loss: 0.061086      val acc: 0.714100 loss: 1.933015\n",
      "  75 epoch: train acc: 0.982083 loss: 0.064717      val acc: 0.716300 loss: 1.954830\n",
      "  80 epoch: train acc: 0.982813 loss: 0.054274      val acc: 0.713900 loss: 1.969946\n",
      "  85 epoch: train acc: 0.982917 loss: 0.051617      val acc: 0.711800 loss: 2.039413\n",
      "  90 epoch: train acc: 0.986250 loss: 0.044062      val acc: 0.720800 loss: 2.175603\n",
      "  95 epoch: train acc: 0.984688 loss: 0.052270      val acc: 0.715000 loss: 2.190175\n",
      " 100 epoch: train acc: 0.984062 loss: 0.062214      val acc: 0.714400 loss: 2.176313\n"
     ]
    }
   ],
   "source": [
    "\"\"\"训练模型并保存模型及训练历史\n",
    "保存模型单独创建一个子文件夹modeldir, 保存训练历史则为单个文件hisfile\"\"\"\n",
    "\n",
    "models_name = \"Keras_CIFAR10_CNN_\" # 模型名称的公共前缀\n",
    "factor_list = [\"first_model\"] # 此次调参的变量列表\n",
    "model_list = []      # 模型名称列表\n",
    "for i in range(len(factor_list)):\n",
    "    modelname = models_name + factor_list[i] + \".h5\"\n",
    "    model_list.append(modelname)\n",
    "\n",
    "# 创建模型保存子目录modeldir\n",
    "if not os.path.isdir(\"saved_model\"): \n",
    "    os.mkdir(\"saved_model\")\n",
    "modeldir = r\"saved_model\\first_model\"\n",
    "if not os.path.isdir(modeldir):\n",
    "        os.mkdir(modeldir)\n",
    "\n",
    "# 创建训练历史保存目录\n",
    "if not os.path.isdir(\"train_history\"): \n",
    "    os.mkdir(\"train_history\")\n",
    "# 设置训练历史文件路径\n",
    "hisfile = r\"train_history\\Keras_CIFAR10_CNN_first_model.train_history\" \n",
    "# 每个模型及其对应的训练历史作为键值对{modelname: train_history}\n",
    "# train_history为字典，含四个key，代表train和val的loss和acc\n",
    "model_train_history = dict() \n",
    "\n",
    "epochs=100\n",
    "steps_per_epoch=300\n",
    "for i in range(len(model_list)):\n",
    "    model = myCNN()\n",
    "    modelname = model_list[i]\n",
    "    modelpath = os.path.join(modeldir, modelname)    \n",
    "    \n",
    "    train_his = np.array([]).reshape(-1, 2)\n",
    "    val_his = np.array([]).reshape(-1, 2)\n",
    "    \n",
    "    datagen = ImageDataGenerator()\n",
    "    model.compile(loss=\"categorical_crossentropy\", \n",
    "                  optimizer=keras.optimizers.Adam(),\n",
    "                  metrics=[\"accuracy\"])\n",
    "    print(\"\\ntraining model : \", modelname)\n",
    "    ck_epoch, max_val_acc = 0, 0.0\n",
    "    for epoch in range(epochs+1):\n",
    "        i = 0\n",
    "        tr_his = []\n",
    "        for X, y in datagen.flow(x_train, t_train, batch_size=32):\n",
    "            his = model.train_on_batch(X, y)\n",
    "            tr_his.append(his)\n",
    "            i += 1\n",
    "            if i >= steps_per_epoch: break\n",
    "        tr = np.mean(tr_his, axis=0)\n",
    "        val = model.evaluate(x_val, t_val, verbose=0)\n",
    "        train_his = np.vstack((train_his, tr))\n",
    "        val_his = np.vstack((val_his, val))\n",
    "        \n",
    "        if epoch%5==0:\n",
    "            print(\"%4d epoch: train acc: %8f loss: %8f      val acc: %8f loss: %8f\"%(epoch, tr[1], tr[0], val[1], val[0]))\n",
    "        # 设置保存模型\n",
    "        if val[1] > max_val_acc: \n",
    "            model.save(modelpath)\n",
    "            ck_epoch = epoch\n",
    "        # 提前停止\n",
    "        if epoch-ck_epoch >30: \n",
    "            print(\"Early stop !\")\n",
    "            break  \n",
    "    model_train_history[modelname] = {\"acc\": train_his[:, 1], \"val_acc\": val_his[:, 1],\n",
    "                                      \"loss\": train_his[:, 0], \"val_loss\": val_his[:, 0]}\n",
    "\n",
    "\n",
    "\"\"\"保存训练历史\"\"\"\n",
    "fo = open(hisfile, 'wb')\n",
    "pickle.dump(model_train_history, fo)\n",
    "fo.close() "
   ]
  },
  {
   "cell_type": "markdown",
   "metadata": {},
   "source": [
    "## 可视化训练过程"
   ]
  },
  {
   "cell_type": "code",
   "execution_count": 16,
   "metadata": {},
   "outputs": [],
   "source": [
    "def show_train_history(saved_history, his_img_file):  \n",
    "    modelnames = sorted(list(saved_history.keys()))\n",
    "    train = [\"acc\", \"loss\"]\n",
    "    val = [\"val_acc\", \"val_loss\"]\n",
    "    \n",
    "    \"\"\"作loss和acc两个图\"\"\"\n",
    "    fig, ax = plt.subplots(1, 2, figsize=(16, 5))\n",
    "    ax = ax.flatten()\n",
    "    color_add = 0.9/len(saved_history)\n",
    "    for i in range(2):\n",
    "        c = 0.05\n",
    "        for j in range(len(saved_history)):\n",
    "            modelname = modelnames[j]\n",
    "            train_history = saved_history[modelname]\n",
    "            ax[i].plot(train_history[train[i]], \n",
    "                       color=(0, 1-c, 0),\n",
    "                       linestyle=\"-\",\n",
    "                       label=\"train_\"+train[i])\n",
    "            ax[i].plot(train_history[val[i]], \n",
    "                       color=(c, 0, 1-c),\n",
    "                       linestyle=\"-\",\n",
    "                       label=\"val_\"+train[i])\n",
    "            c += color_add\n",
    "        ax[i].set_ylabel(train[i], size=20)  \n",
    "        ax[i].set_xlabel('Epoch', size=20)  \n",
    "    ax[0].legend(loc=\"lower right\")\n",
    "    ax[1].legend(loc=\"upper right\") \n",
    "#     ax[0].set_ylim(0.6, 1.0)\n",
    "    plt.suptitle(\"CNN_simple Train History\")\n",
    "    print(\"saved img: \", his_img_file)\n",
    "    plt.savefig(his_img_file)\n",
    "    plt.show()"
   ]
  },
  {
   "cell_type": "code",
   "execution_count": 4,
   "metadata": {},
   "outputs": [],
   "source": [
    "hisfile = r\"train_history\\Keras_CIFAR10_CNN_first_model.train_history\" "
   ]
  },
  {
   "cell_type": "code",
   "execution_count": 17,
   "metadata": {},
   "outputs": [
    {
     "name": "stdout",
     "output_type": "stream",
     "text": [
      "saved img:  his_img\\CNN_simple.png\n"
     ]
    },
    {
     "data": {
      "image/png": "[encoded data removed]",
      "text/plain": [
       "<Figure size 1152x360 with 2 Axes>"
      ]
     },
     "metadata": {},
     "output_type": "display_data"
    }
   ],
   "source": [
    "\"\"\"载入训练历史并可视化\"\"\"\n",
    "fo2 = open(hisfile, \"rb\")\n",
    "saved_history = pickle.load(fo2)\n",
    "\n",
    "if not os.path.isdir(\"his_img\"):\n",
    "    os.mkdir(\"his_img\")\n",
    "his_img_file = r\"his_img\\CNN_simple.png\"\n",
    "show_train_history(saved_history, his_img_file)"
   ]
  },
  {
   "cell_type": "markdown",
   "metadata": {},
   "source": [
    "## 用测试集测试模型"
   ]
  },
  {
   "cell_type": "code",
   "execution_count": 8,
   "metadata": {},
   "outputs": [
    {
     "name": "stdout",
     "output_type": "stream",
     "text": [
      "\n",
      "test model :  Keras_CIFAR10_CNN_first_model.h5\n",
      "10000/10000 [==============================] - 3s 346us/step\n",
      "acc: 0.7065 \t loss: 2.2663\n"
     ]
    }
   ],
   "source": [
    "for modelname in model_list:\n",
    "    modelpath = os.path.join(modeldir, modelname)\n",
    "    smodel = load_model(modelpath)\n",
    "    \n",
    "    print(\"\\ntest model : \", modelname)\n",
    "    loss, acc = smodel.evaluate(X_test, y_test)    \n",
    "    print(\"acc: %.4f \\t loss: %.4f\"%(acc, loss))"
   ]
  }
 ],
 "metadata": {
  "kernelspec": {
   "display_name": "Python 3",
   "language": "python",
   "name": "python3"
  },
  "language_info": {
   "codemirror_mode": {
    "name": "ipython",
    "version": 3
   },
   "file_extension": ".py",
   "mimetype": "text/x-python",
   "name": "python",
   "nbconvert_exporter": "python",
   "pygments_lexer": "ipython3",
   "version": "3.5.5"
  }
 },
 "nbformat": 4,
 "nbformat_minor": 2
}
