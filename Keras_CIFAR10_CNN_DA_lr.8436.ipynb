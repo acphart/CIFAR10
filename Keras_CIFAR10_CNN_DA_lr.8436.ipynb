{
 "cells": [
  {
   "cell_type": "markdown",
   "metadata": {},
   "source": [
    "# Keras_CIFAR10_CNN_DA_lr"
   ]
  },
  {
   "cell_type": "markdown",
   "metadata": {},
   "source": [
    "- 经试验：如下方式增强图片较好\n",
    "```\n",
    "ImageDataGenerator(  rotation_range=20,    \n",
    "                       shear_range=0.2, \n",
    "                       zoom_range=0.2, \n",
    "                       height_shift_range=0.2, \n",
    "                       width_shift_range=0.2, \n",
    "                       horizontal_flip=True)\n",
    "```"
   ]
  },
  {
   "cell_type": "markdown",
   "metadata": {},
   "source": [
    "## 导入模块"
   ]
  },
  {
   "cell_type": "code",
   "execution_count": 1,
   "metadata": {},
   "outputs": [
    {
     "name": "stderr",
     "output_type": "stream",
     "text": [
      "Using TensorFlow backend.\n"
     ]
    }
   ],
   "source": [
    "%matplotlib inline\n",
    "import os\n",
    "import PIL\n",
    "import gzip\n",
    "import tarfile\n",
    "import pickle\n",
    "import numpy as np\n",
    "import pandas as pd\n",
    "import matplotlib.pyplot as plt\n",
    "import tensorflow as tf\n",
    "import keras\n",
    "\n",
    "from IPython import display\n",
    "from functools import partial\n",
    "from sklearn.preprocessing import normalize\n",
    "\n",
    "from keras import backend\n",
    "from keras.utils import np_utils, plot_model\n",
    "from keras.callbacks import TensorBoard, ModelCheckpoint\n",
    "from keras.callbacks import LearningRateScheduler, ReduceLROnPlateau\n",
    "from keras.preprocessing.image import ImageDataGenerator\n",
    "\n",
    "from keras.models import load_model\n",
    "from keras.models import Sequential, Model\n",
    "from keras.layers import Dense, Conv2D, MaxPool2D, Input, AveragePooling2D\n",
    "from keras.layers import Activation, Dropout, Flatten, BatchNormalization\n",
    "from keras.regularizers import l2\n",
    "from keras.optimizers import Adam\n",
    "\n",
    "import warnings \n",
    "warnings.filterwarnings('ignore')\n",
    "np.random.seed(42)"
   ]
  },
  {
   "cell_type": "markdown",
   "metadata": {},
   "source": [
    "## 准备数据"
   ]
  },
  {
   "cell_type": "code",
   "execution_count": 7,
   "metadata": {},
   "outputs": [
    {
     "name": "stdout",
     "output_type": "stream",
     "text": [
      "cifar-10-batches-py/\n",
      "cifar-10-batches-py/data_batch_4\n",
      "cifar-10-batches-py/readme.html\n",
      "cifar-10-batches-py/test_batch\n",
      "cifar-10-batches-py/data_batch_3\n",
      "cifar-10-batches-py/batches.meta\n",
      "cifar-10-batches-py/data_batch_2\n",
      "cifar-10-batches-py/data_batch_5\n",
      "cifar-10-batches-py/data_batch_1\n"
     ]
    }
   ],
   "source": [
    "data_dir = r\"dataset\"\n",
    "cifar10_file = r\"../input/cifar-10-python.tar.gz\"\n",
    "\n",
    "if not os.path.isdir(data_dir):\n",
    "    os.mkdir(data_dir)\n",
    "\n",
    "# 以下shell指令是在Kaggle kernel中运行的，用以解压文件\n",
    "# !cp ../input/cifar-10-python.tar.gz dataset/\n",
    "# !tar xzvf dataset/cifar-10-python.tar.gz -C dataset/"
   ]
  },
  {
   "cell_type": "code",
   "execution_count": 8,
   "metadata": {},
   "outputs": [
    {
     "name": "stdout",
     "output_type": "stream",
     "text": [
      "all files : \n",
      " ['readme.html', 'data_batch_1', 'data_batch_3', 'data_batch_5', 'data_batch_2', 'test_batch', 'batches.meta', 'data_batch_4']\n",
      "\n",
      "all labels : \n",
      " ['airplane', 'automobile', 'bird', 'cat', 'deer', 'dog', 'frog', 'horse', 'ship', 'truck']\n",
      "\n",
      "imgs   of trainset :  (40000, 32, 32, 3)\n",
      "labels of trainset :  (40000, 10)\n",
      "imgs   of   valset :  (10000, 32, 32, 3)\n",
      "labels of   valset :  (10000, 10)\n",
      "imgs   of  testset :  (10000, 32, 32, 3)\n",
      "labels of  testset :  (10000, 10)\n"
     ]
    }
   ],
   "source": [
    "cifar10_dir = r\"cifar-10-batches-py\"\n",
    "filepath = os.path.join(data_dir, cifar10_dir)\n",
    "files = os.listdir(filepath)\n",
    "\n",
    "for fn in files:\n",
    "    fp = os.path.join(filepath, fn)\n",
    "    f = open(fp, 'rb')\n",
    "    if \"1\" in fn:\n",
    "        data_b = pickle.load(f, encoding=\"bytes\")\n",
    "        y_train = np_utils.to_categorical(data_b[b\"labels\"])\n",
    "        X_train = np.array(data_b[b\"data\"])\n",
    "    f.close()\n",
    "\n",
    "for fn in files:\n",
    "    fp = os.path.join(filepath, fn)\n",
    "    f = open(fp, 'rb')\n",
    "    if \"data\" in fn and \"1\" not in fn:\n",
    "        data_b = pickle.load(f, encoding=\"bytes\")\n",
    "        imgs = np.array(data_b[b\"data\"])\n",
    "        t_1hot = np_utils.to_categorical(data_b[b\"labels\"])\n",
    "        y_train = np.vstack((y_train, t_1hot))\n",
    "        X_train = np.vstack((X_train, imgs))\n",
    "    elif \"meta\" in fn:\n",
    "        meta = pickle.load(f, encoding=\"bytes\")\n",
    "        label_dict = [label.decode() for label in meta[b\"label_names\"]]\n",
    "    elif \"test\" in fn:\n",
    "        test_b = pickle.load(f, encoding=\"bytes\")\n",
    "        X_test = test_b[b\"data\"]\n",
    "        labels = test_b[b\"labels\"]\n",
    "        y_test = np_utils.to_categorical(labels)\n",
    "    f.close()\n",
    "\n",
    "\"\"\"规范化数据以及切分训练集、验证集和测试集\"\"\"\n",
    "X_train = normalize(X_train, axis=0, norm=\"max\")\n",
    "X_train = X_train.reshape(-1, 3, 32, 32).transpose(0, 2, 3, 1).astype(\"float32\")\n",
    "X_test = normalize(X_test, axis=0, norm=\"max\")\n",
    "X_test = X_test.reshape(-1, 3, 32, 32).transpose(0, 2, 3, 1).astype(\"float32\")\n",
    "x_train = X_train[10000:]\n",
    "t_train = y_train[10000:]\n",
    "x_val   = X_train[:10000]\n",
    "t_val   = y_train[:10000]\n",
    "\n",
    "print(\"all files : \\n\", files)\n",
    "print(\"\\nall labels : \\n\", label_dict)\n",
    "print(\"\\nimgs   of trainset : \", x_train.shape)\n",
    "print(\"labels of trainset : \", t_train.shape)\n",
    "print(\"imgs   of   valset : \", x_val.shape)\n",
    "print(\"labels of   valset : \", t_val.shape)\n",
    "print(\"imgs   of  testset : \", X_test.shape)\n",
    "print(\"labels of  testset : \", y_test.shape)"
   ]
  },
  {
   "cell_type": "markdown",
   "metadata": {},
   "source": [
    "## 定义模型"
   ]
  },
  {
   "cell_type": "code",
   "execution_count": 3,
   "metadata": {
    "scrolled": true
   },
   "outputs": [
    {
     "name": "stdout",
     "output_type": "stream",
     "text": [
      "_________________________________________________________________\n",
      "Layer (type)                 Output Shape              Param #   \n",
      "=================================================================\n",
      "input (InputLayer)           (None, 32, 32, 3)         0         \n",
      "_________________________________________________________________\n",
      "conv1 (Conv2D)               (None, 32, 32, 32)        896       \n",
      "_________________________________________________________________\n",
      "conv2 (Conv2D)               (None, 32, 32, 32)        9248      \n",
      "_________________________________________________________________\n",
      "pool1 (MaxPooling2D)         (None, 16, 16, 32)        0         \n",
      "_________________________________________________________________\n",
      "conv3 (Conv2D)               (None, 16, 16, 64)        18496     \n",
      "_________________________________________________________________\n",
      "conv4 (Conv2D)               (None, 16, 16, 64)        36928     \n",
      "_________________________________________________________________\n",
      "pool2 (MaxPooling2D)         (None, 8, 8, 64)          0         \n",
      "_________________________________________________________________\n",
      "flatten_1 (Flatten)          (None, 4096)              0         \n",
      "_________________________________________________________________\n",
      "dense1 (Dense)               (None, 512)               2097664   \n",
      "_________________________________________________________________\n",
      "output (Dense)               (None, 10)                5130      \n",
      "=================================================================\n",
      "Total params: 2,168,362\n",
      "Trainable params: 2,168,362\n",
      "Non-trainable params: 0\n",
      "_________________________________________________________________\n",
      "None\n"
     ]
    }
   ],
   "source": [
    "def myCNN():\n",
    "    \"\"\"定义CNN模型\"\"\"\n",
    "    MyConv = partial(Conv2D, kernel_size=(3, 3), padding=\"same\", activation=\"relu\")\n",
    "    MyMaxPool = partial(MaxPool2D, pool_size=(2, 2))\n",
    "    \n",
    "    cifar_input = Input(shape=(32, 32, 3), name=\"input\")\n",
    "    \n",
    "    conv1 = MyConv(32, name=\"conv1\")(cifar_input)\n",
    "    conv2 = MyConv(32, name=\"conv2\")(conv1)\n",
    "    pool1 = MyMaxPool(name=\"pool1\")(conv2)\n",
    "    \n",
    "    conv3 = MyConv(64, name=\"conv3\")(pool1)\n",
    "    conv4 = MyConv(64, name=\"conv4\")(conv3)\n",
    "    pool2 = MyMaxPool(name=\"pool2\")(conv4)\n",
    "    \n",
    "    flat1 = Flatten()(pool2)    \n",
    "    dense1 = Dense(512, activation=\"relu\", name=\"dense1\")(flat1)\n",
    "    y_output = Dense(10, activation=\"softmax\", name=\"output\")(dense1)\n",
    "    \n",
    "    model = Model(inputs=cifar_input, outputs=y_output)\n",
    "    return model\n",
    "model = myCNN()\n",
    "print(model.summary())"
   ]
  },
  {
   "cell_type": "code",
   "execution_count": 4,
   "metadata": {
    "scrolled": true
   },
   "outputs": [
    {
     "data": {
      "image/png": "[encoded data removed]",
      "text/plain": [
       "<PIL.PngImagePlugin.PngImageFile image mode=RGB size=196x936 at 0x7FA08E2B15F8>"
      ]
     },
     "metadata": {},
     "output_type": "display_data"
    }
   ],
   "source": [
    "if not os.path.isdir(r\"model_img\"):\n",
    "    os.mkdir(r\"model_img\")\n",
    "plot_model(model, r\"model_img/CNN_DA_lr.png\")\n",
    "img = PIL.Image.open(r\"model_img/CNN_DA_lr.png\")\n",
    "display.display(img)"
   ]
  },
  {
   "cell_type": "markdown",
   "metadata": {},
   "source": [
    "## 训练模型"
   ]
  },
  {
   "cell_type": "code",
   "execution_count": 9,
   "metadata": {
    "scrolled": true
   },
   "outputs": [
    {
     "name": "stdout",
     "output_type": "stream",
     "text": [
      "\n",
      "training model :  Keras_CIFAR10_CNN_DA_lr.h5\n",
      "   0 epoch: train acc: 0.384050 loss: 1.688633      val acc: 0.468400 loss: 1.483723\n",
      "val acc improved from 0.000000 to 0.468400\n",
      "   1 epoch: train acc: 0.514875 loss: 1.345397      val acc: 0.624700 loss: 1.059444\n",
      "val acc improved from 0.468400 to 0.624700\n",
      "   2 epoch: train acc: 0.574775 loss: 1.199669      val acc: 0.648900 loss: 0.986869\n",
      "val acc improved from 0.624700 to 0.648900\n",
      "   3 epoch: train acc: 0.609625 loss: 1.100388      val acc: 0.679000 loss: 0.929482\n",
      "val acc improved from 0.648900 to 0.679000\n",
      "   4 epoch: train acc: 0.634050 loss: 1.031327      val acc: 0.680600 loss: 0.890321\n",
      "val acc improved from 0.679000 to 0.680600\n",
      "   5 epoch: train acc: 0.657475 loss: 0.969154      val acc: 0.714700 loss: 0.811354\n",
      "val acc improved from 0.680600 to 0.714700\n",
      "   6 epoch: train acc: 0.671650 loss: 0.935208      val acc: 0.701500 loss: 0.856639\n",
      "   7 epoch: train acc: 0.681125 loss: 0.901744      val acc: 0.730100 loss: 0.761826\n",
      "val acc improved from 0.714700 to 0.730100\n",
      "   8 epoch: train acc: 0.694800 loss: 0.867643      val acc: 0.735700 loss: 0.747383\n",
      "val acc improved from 0.730100 to 0.735700\n",
      "   9 epoch: train acc: 0.703375 loss: 0.851443      val acc: 0.742000 loss: 0.742659\n",
      "val acc improved from 0.735700 to 0.742000\n",
      "  10 epoch: train acc: 0.707700 loss: 0.835658      val acc: 0.745200 loss: 0.719498\n",
      "val acc improved from 0.742000 to 0.745200\n",
      "val acc improved from 0.745200 to 0.759700\n",
      "val acc improved from 0.759700 to 0.767000\n",
      "  15 epoch: train acc: 0.727525 loss: 0.772436      val acc: 0.761900 loss: 0.698009\n",
      "val acc improved from 0.767000 to 0.769400\n",
      "val acc improved from 0.769400 to 0.771700\n",
      "  20 epoch: train acc: 0.742400 loss: 0.725695      val acc: 0.777100 loss: 0.656262\n",
      "val acc improved from 0.771700 to 0.777100\n",
      "val acc improved from 0.777100 to 0.791900\n",
      "  25 epoch: train acc: 0.756700 loss: 0.689883      val acc: 0.781800 loss: 0.644648\n",
      "val acc improved from 0.791900 to 0.796600\n",
      "  30 epoch: train acc: 0.764900 loss: 0.672216      val acc: 0.777700 loss: 0.657921\n",
      "  35 epoch: train acc: 0.769600 loss: 0.659096      val acc: 0.785900 loss: 0.653597\n",
      "val acc improved from 0.796600 to 0.798000\n",
      "  40 epoch: train acc: 0.777150 loss: 0.639009      val acc: 0.780400 loss: 0.684976\n",
      "lr :  0.0005\n",
      "val acc improved from 0.798000 to 0.811400\n",
      "val acc improved from 0.811400 to 0.820500\n",
      "  45 epoch: train acc: 0.811050 loss: 0.546026      val acc: 0.826400 loss: 0.536726\n",
      "val acc improved from 0.820500 to 0.826400\n",
      "  50 epoch: train acc: 0.815400 loss: 0.527541      val acc: 0.815300 loss: 0.589823\n",
      "  55 epoch: train acc: 0.822350 loss: 0.508724      val acc: 0.811100 loss: 0.604648\n",
      "val acc improved from 0.826400 to 0.827400\n",
      "  60 epoch: train acc: 0.824550 loss: 0.502190      val acc: 0.821500 loss: 0.566599\n",
      "  65 epoch: train acc: 0.830750 loss: 0.481842      val acc: 0.818500 loss: 0.581104\n",
      "val acc improved from 0.827400 to 0.833700\n",
      "  70 epoch: train acc: 0.833900 loss: 0.474771      val acc: 0.818100 loss: 0.580394\n",
      "val acc improved from 0.833700 to 0.839600\n",
      "  75 epoch: train acc: 0.838350 loss: 0.465987      val acc: 0.829900 loss: 0.527343\n",
      "  80 epoch: train acc: 0.836550 loss: 0.464538      val acc: 0.839500 loss: 0.501246\n",
      "lr :  0.0001\n",
      "val acc improved from 0.839600 to 0.840300\n",
      "val acc improved from 0.840300 to 0.840800\n",
      "  85 epoch: train acc: 0.858775 loss: 0.398294      val acc: 0.837600 loss: 0.520672\n",
      "val acc improved from 0.840800 to 0.844500\n",
      "  90 epoch: train acc: 0.863600 loss: 0.387056      val acc: 0.844000 loss: 0.497453\n",
      "  95 epoch: train acc: 0.865100 loss: 0.382432      val acc: 0.839800 loss: 0.524538\n",
      "val acc improved from 0.844500 to 0.845300\n",
      " 100 epoch: train acc: 0.866775 loss: 0.378913      val acc: 0.842500 loss: 0.505979\n",
      " 105 epoch: train acc: 0.870400 loss: 0.370392      val acc: 0.841700 loss: 0.510766\n",
      " 110 epoch: train acc: 0.870100 loss: 0.371685      val acc: 0.846800 loss: 0.501177\n",
      "val acc improved from 0.845300 to 0.846800\n",
      " 115 epoch: train acc: 0.870625 loss: 0.368130      val acc: 0.838400 loss: 0.539952\n",
      " 120 epoch: train acc: 0.871825 loss: 0.363130      val acc: 0.846400 loss: 0.496086\n",
      "lr :  5e-05\n",
      " 125 epoch: train acc: 0.877550 loss: 0.349587      val acc: 0.844200 loss: 0.508341\n",
      "val acc improved from 0.846800 to 0.846900\n",
      "val acc improved from 0.846900 to 0.847400\n",
      " 130 epoch: train acc: 0.879475 loss: 0.350757      val acc: 0.849200 loss: 0.495361\n",
      "val acc improved from 0.847400 to 0.849200\n",
      " 135 epoch: train acc: 0.876425 loss: 0.351587      val acc: 0.846800 loss: 0.496336\n",
      " 140 epoch: train acc: 0.880575 loss: 0.338929      val acc: 0.848200 loss: 0.497885\n",
      "val acc improved from 0.849200 to 0.849500\n",
      " 145 epoch: train acc: 0.879950 loss: 0.343743      val acc: 0.848700 loss: 0.495200\n",
      "val acc improved from 0.849500 to 0.849700\n",
      "val acc improved from 0.849700 to 0.851100\n",
      " 150 epoch: train acc: 0.879125 loss: 0.342214      val acc: 0.848100 loss: 0.496559\n",
      " 155 epoch: train acc: 0.880275 loss: 0.340929      val acc: 0.847500 loss: 0.501784\n",
      " 160 epoch: train acc: 0.879325 loss: 0.340071      val acc: 0.848900 loss: 0.495957\n",
      "lr :  1e-05\n",
      " 165 epoch: train acc: 0.882125 loss: 0.332623      val acc: 0.848000 loss: 0.504081\n",
      " 170 epoch: train acc: 0.880375 loss: 0.340480      val acc: 0.849200 loss: 0.495557\n",
      " 175 epoch: train acc: 0.882475 loss: 0.337582      val acc: 0.849000 loss: 0.496968\n",
      " 180 epoch: train acc: 0.883375 loss: 0.335296      val acc: 0.848900 loss: 0.497812\n",
      " 185 epoch: train acc: 0.882350 loss: 0.332506      val acc: 0.849500 loss: 0.496073\n",
      " 190 epoch: train acc: 0.883275 loss: 0.329598      val acc: 0.848600 loss: 0.501754\n",
      "Early stop !\n"
     ]
    }
   ],
   "source": [
    "\"\"\"训练模型并保存模型及训练历史\n",
    "保存模型单独创建一个子文件夹modeldir, 保存训练历史则为单个文件hisfile\"\"\"\n",
    "\n",
    "models_name = \"Keras_CIFAR10_CNN_DA_lr\" # 模型名称的公共前缀\n",
    "factor_list = [\"\"] # 此次调参的变量列表\n",
    "\n",
    "model_list = []      # 模型名称列表\n",
    "for i in range(len(factor_list)):\n",
    "    modelname = models_name + factor_list[i] + \".h5\"\n",
    "    model_list.append(modelname)\n",
    "\n",
    "# 创建模型保存子目录modeldir\n",
    "if not os.path.isdir(\"saved_model\"): \n",
    "    os.mkdir(\"saved_model\")\n",
    "modeldir = r\"saved_model\"\n",
    "if not os.path.isdir(modeldir):\n",
    "        os.mkdir(modeldir)\n",
    "\n",
    "# 创建训练历史保存目录\n",
    "if not os.path.isdir(\"train_history\"): \n",
    "    os.mkdir(\"train_history\")\n",
    "# 设置训练历史文件路径\n",
    "hisfile = r\"train_history/Keras_CIFAR10_CNN_DA_lr.train_history\" \n",
    "# 每个模型及其对应的训练历史作为键值对{modelname: train_history}\n",
    "# train_history为字典，含四个key，代表train和val的loss和acc\n",
    "model_train_history = dict() \n",
    "\n",
    "epochs=200\n",
    "steps_per_epoch=1250\n",
    "for i in range(len(model_list)):\n",
    "    model = myCNN()\n",
    "    modelname = model_list[i]\n",
    "    modelpath = os.path.join(modeldir, modelname)    \n",
    "    \n",
    "    train_his = np.array([]).reshape(-1, 2)\n",
    "    val_his = np.array([]).reshape(-1, 2)\n",
    "    \n",
    "    datagen = ImageDataGenerator(rotation_range=20, \n",
    "                               shear_range=0.2, \n",
    "                               zoom_range=0.2, \n",
    "                               height_shift_range=0.2, \n",
    "                               width_shift_range=0.2, \n",
    "                               horizontal_flip=True)\n",
    "    datagen.fit(x_train)\n",
    "    model.compile(loss=\"categorical_crossentropy\", \n",
    "                  optimizer=keras.optimizers.Adam(),\n",
    "                  metrics=[\"accuracy\"])\n",
    "    print(\"\\ntraining model : \", modelname)\n",
    "    \n",
    "    lr = 0.001\n",
    "    ck_epoch, max_val_acc = 0, 0.0\n",
    "    for epoch in range(epochs+1):\n",
    "        i = 0\n",
    "        tr_his = []\n",
    "        for X, y in datagen.flow(x_train, t_train, batch_size=32):\n",
    "            his = model.train_on_batch(X, y)\n",
    "            tr_his.append(his)\n",
    "            i += 1\n",
    "            if i >= steps_per_epoch: break\n",
    "        tr = np.mean(tr_his, axis=0)\n",
    "        val = model.evaluate(x_val, t_val, verbose=0)\n",
    "        train_his = np.vstack((train_his, tr))\n",
    "        val_his = np.vstack((val_his, val))\n",
    "        if epoch<10 or epoch%5==0:\n",
    "            print(\"%4d epoch: train acc: %8f loss: %8f      val acc: %8f loss: %8f\"%(epoch, tr[1], tr[0], val[1], val[0]))\n",
    "        # 设置保存模型\n",
    "        if val[1] > max_val_acc: \n",
    "            model.save(modelpath)\n",
    "            print(\"val acc improved from %6f to %6f\"%(max_val_acc, val[1]))\n",
    "            max_val_acc = val[1]\n",
    "            ck_epoch = epoch\n",
    "        # 调学习率: \n",
    "        if epoch and epoch%40 == 0 and lr >= 1e-6:\n",
    "            if epoch%80 == 0:\n",
    "                lr *= 0.2\n",
    "            else:\n",
    "                lr *= 0.5\n",
    "            model.compile(loss=\"categorical_crossentropy\", \n",
    "                          optimizer=keras.optimizers.Adam(lr=lr),\n",
    "                          metrics=[\"accuracy\"])\n",
    "            print(\"lr : \", lr)\n",
    "        # 提前停止：当连续40周期性能没有提升\n",
    "        if epoch-ck_epoch >40: \n",
    "            print(\"Early stop !\")\n",
    "            break  \n",
    "    model_train_history[modelname] = {\"acc\": train_his[:, 1], \"val_acc\": val_his[:, 1],\n",
    "                                      \"loss\": train_his[:, 0], \"val_loss\": val_his[:, 0]}\n",
    "\n",
    "\"\"\"保存训练历史\"\"\"\n",
    "fo = open(hisfile, 'wb')\n",
    "pickle.dump(model_train_history, fo)\n",
    "fo.close() "
   ]
  },
  {
   "cell_type": "markdown",
   "metadata": {},
   "source": [
    "## 可视化训练过程"
   ]
  },
  {
   "cell_type": "code",
   "execution_count": 10,
   "metadata": {},
   "outputs": [],
   "source": [
    "def show_train_history(saved_history, his_img_file):  \n",
    "    modelnames = sorted(list(saved_history.keys()))\n",
    "    train = [\"acc\", \"loss\"]\n",
    "    val = [\"val_acc\", \"val_loss\"]\n",
    "    \n",
    "    \"\"\"作loss和acc两个图\"\"\"\n",
    "    fig, ax = plt.subplots(1, 2, figsize=(16, 5))\n",
    "    ax = ax.flatten()\n",
    "    color_add = 0.9/len(saved_history)\n",
    "    for i in range(2):\n",
    "        c = 0.05\n",
    "        for j in range(len(saved_history)):\n",
    "            modelname = modelnames[j]\n",
    "            train_history = saved_history[modelname]\n",
    "            ax[i].plot(train_history[train[i]], \n",
    "                       color=(0, 1-c, 0),\n",
    "                       linestyle=\"-\",\n",
    "                       label=\"train_\"+modelname[21:-3])\n",
    "            ax[i].plot(train_history[val[i]], \n",
    "                       color=(c, 0, 1-c),\n",
    "                       linestyle=\"-\",\n",
    "                       label=\"val_\"+modelname[21:-3])\n",
    "            c += color_add\n",
    "        ax[i].set_title('Train History')\n",
    "        ax[i].set_ylabel(train[i])  \n",
    "        ax[i].set_xlabel('Epoch')  \n",
    "    ax[0].legend(loc=\"lower right\")\n",
    "    ax[1].legend(loc=\"upper right\") \n",
    "    ax[0].set_ylim(0.3, 0.9)\n",
    "    ax[1].set_ylim(0.2, 2)\n",
    "    plt.suptitle(\"CNN_DA_lr\")\n",
    "    \n",
    "    print(\"saved img: \", his_img_file)\n",
    "    plt.savefig(his_img_file)\n",
    "    plt.show()"
   ]
  },
  {
   "cell_type": "code",
   "execution_count": 11,
   "metadata": {},
   "outputs": [
    {
     "name": "stdout",
     "output_type": "stream",
     "text": [
      "saved img:  his_img/CNN_DA_lr.png\n"
     ]
    },
    {
     "data": {
      "image/png": "[encoded data removed]",
      "text/plain": [
       "<Figure size 1152x360 with 2 Axes>"
      ]
     },
     "metadata": {
      "needs_background": "light"
     },
     "output_type": "display_data"
    }
   ],
   "source": [
    "\"\"\"载入训练历史并可视化, 并且保存图片\"\"\"\n",
    "if not os.path.isdir(\"his_img\"):\n",
    "    os.mkdir(\"his_img\")\n",
    "his_img_file = r\"his_img/CNN_DA_lr.png\"\n",
    "\n",
    "fo2 = open(hisfile, \"rb\")\n",
    "saved_history1 = pickle.load(fo2)\n",
    "\n",
    "show_train_history(saved_history1, his_img_file)"
   ]
  },
  {
   "cell_type": "markdown",
   "metadata": {},
   "source": [
    "## 用测试集测试模型"
   ]
  },
  {
   "cell_type": "code",
   "execution_count": 12,
   "metadata": {},
   "outputs": [
    {
     "name": "stdout",
     "output_type": "stream",
     "text": [
      "\n",
      "test model :  Keras_CIFAR10_CNN_DA_lr.h5\n",
      "10000/10000 [==============================] - 1s 88us/step\n",
      "acc: 0.8436 \t loss: 0.5237\n"
     ]
    }
   ],
   "source": [
    "smodel = load_model(modelpath)\n",
    "\n",
    "print(\"\\ntest model : \",os.path.basename(modelpath))\n",
    "loss, acc = smodel.evaluate(X_test, y_test)    \n",
    "print(\"acc: %.4f \\t loss: %.4f\"%(acc, loss))"
   ]
  }
 ],
 "metadata": {
  "kernelspec": {
   "display_name": "Python 3",
   "language": "python",
   "name": "python3"
  },
  "language_info": {
   "codemirror_mode": {
    "name": "ipython",
    "version": 3
   },
   "file_extension": ".py",
   "mimetype": "text/x-python",
   "name": "python",
   "nbconvert_exporter": "python",
   "pygments_lexer": "ipython3",
   "version": "3.5.5"
  }
 },
 "nbformat": 4,
 "nbformat_minor": 1
}
